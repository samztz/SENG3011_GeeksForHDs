{
 "cells": [
  {
   "cell_type": "markdown",
   "id": "77842400",
   "metadata": {},
   "source": [
    "# Step 1: Getting data from API and converting in Appropriate structure"
   ]
  },
  {
   "cell_type": "code",
   "execution_count": 16,
   "id": "674b936d",
   "metadata": {},
   "outputs": [],
   "source": [
    "#import api data\n",
    "import requests\n",
    "url= 'https://api.covidactnow.org/v2/counties.json?apiKey=6abf0fcadd5d4ddab5f43d619f68871e'\n",
    "resp = requests.get(url=url).json()"
   ]
  },
  {
   "cell_type": "code",
   "execution_count": 17,
   "id": "7860c663",
   "metadata": {},
   "outputs": [
    {
     "data": {
      "text/plain": [
       "{'fips': '01065',\n",
       " 'country': 'US',\n",
       " 'state': 'AL',\n",
       " 'county': 'Hale County',\n",
       " 'hsa': '156',\n",
       " 'hsaName': 'Tuscaloosa (Tuscaloosa), AL - Pickens, AL',\n",
       " 'level': 'county',\n",
       " 'lat': None,\n",
       " 'locationId': 'iso1:us#iso2:us-al#fips:01065',\n",
       " 'long': None,\n",
       " 'population': 14651,\n",
       " 'hsaPopulation': 252047,\n",
       " 'metrics': {'testPositivityRatio': 0.017,\n",
       "  'testPositivityRatioDetails': {'source': 'other'},\n",
       "  'caseDensity': 9.3,\n",
       "  'weeklyNewCasesPer100k': 64.8,\n",
       "  'contactTracerCapacityRatio': None,\n",
       "  'infectionRate': 1.11,\n",
       "  'infectionRateCI90': 1.1,\n",
       "  'icuCapacityRatio': None,\n",
       "  'bedsWithCovidPatientsRatio': 0.0,\n",
       "  'weeklyCovidAdmissionsPer100k': 0.8,\n",
       "  'vaccinationsInitiatedRatio': 0.727,\n",
       "  'vaccinationsCompletedRatio': 0.613,\n",
       "  'vaccinationsAdditionalDoseRatio': 0.249},\n",
       " 'riskLevels': {'overall': 2,\n",
       "  'testPositivityRatio': 0,\n",
       "  'caseDensity': 1,\n",
       "  'contactTracerCapacityRatio': 4,\n",
       "  'infectionRate': 2,\n",
       "  'icuCapacityRatio': 4},\n",
       " 'cdcTransmissionLevel': 2,\n",
       " 'communityLevels': {'cdcCommunityLevel': 0, 'canCommunityLevel': 0},\n",
       " 'actuals': {'cases': 4716,\n",
       "  'deaths': 106,\n",
       "  'positiveTests': None,\n",
       "  'negativeTests': None,\n",
       "  'contactTracers': None,\n",
       "  'hospitalBeds': {'capacity': 21,\n",
       "   'currentUsageTotal': 6,\n",
       "   'currentUsageCovid': 1,\n",
       "   'weeklyCovidAdmissions': 6},\n",
       "  'hsaHospitalBeds': {'capacity': 546,\n",
       "   'currentUsageTotal': 326,\n",
       "   'currentUsageCovid': 2,\n",
       "   'weeklyCovidAdmissions': 4},\n",
       "  'icuBeds': {'capacity': None,\n",
       "   'currentUsageTotal': None,\n",
       "   'currentUsageCovid': None},\n",
       "  'hsaIcuBeds': {'capacity': 58,\n",
       "   'currentUsageTotal': 43,\n",
       "   'currentUsageCovid': 1},\n",
       "  'newCases': 0,\n",
       "  'newDeaths': 0,\n",
       "  'vaccinesDistributed': None,\n",
       "  'vaccinationsInitiated': 10652,\n",
       "  'vaccinationsCompleted': 8987,\n",
       "  'vaccinationsAdditionalDose': 3643,\n",
       "  'vaccinesAdministered': 19466,\n",
       "  'vaccinesAdministeredDemographics': None,\n",
       "  'vaccinationsInitiatedDemographics': {'age': {'0-17': 506,\n",
       "    '12-17': 522,\n",
       "    '16-54': 2027,\n",
       "    '18-24': 626,\n",
       "    '18-29': 922,\n",
       "    '25-49': 2663,\n",
       "    '30-49': 2061,\n",
       "    '5-11': 175,\n",
       "    '50-64': 2483,\n",
       "    '55-64': 1399,\n",
       "    '65-74': 1588,\n",
       "    '75_plus': 1084},\n",
       "   'race': {'ai_an': 8,\n",
       "    'asian': 21,\n",
       "    'black': 5042,\n",
       "    'multiple': 582,\n",
       "    'other': 84,\n",
       "    'pacific_islander': 2,\n",
       "    'unknown': 230,\n",
       "    'white': 2840},\n",
       "   'ethnicity': None,\n",
       "   'sex': {'female': 5165, 'male': 3968, 'unknown': 8}}},\n",
       " 'annotations': {'cases': {'sources': [{'type': 'NYTimes',\n",
       "     'url': 'https://github.com/nytimes/covid-19-data',\n",
       "     'name': 'The New York Times'}],\n",
       "   'anomalies': []},\n",
       "  'deaths': {'sources': [{'type': 'NYTimes',\n",
       "     'url': 'https://github.com/nytimes/covid-19-data',\n",
       "     'name': 'The New York Times'}],\n",
       "   'anomalies': []},\n",
       "  'positiveTests': None,\n",
       "  'negativeTests': None,\n",
       "  'contactTracers': None,\n",
       "  'hospitalBeds': {'sources': [{'type': 'other',\n",
       "     'url': 'https://healthdata.gov/Hospital/COVID-19-Reported-Patient-Impact-and-Hospital-Capa/anag-cw7u',\n",
       "     'name': 'Department of Health and Human Services'}],\n",
       "   'anomalies': []},\n",
       "  'hsaHospitalBeds': None,\n",
       "  'icuBeds': None,\n",
       "  'hsaIcuBeds': None,\n",
       "  'newCases': None,\n",
       "  'newDeaths': None,\n",
       "  'vaccinesDistributed': None,\n",
       "  'vaccinationsInitiated': {'sources': [{'type': 'other',\n",
       "     'url': 'https://data.cdc.gov/Vaccinations/COVID-19-Vaccinations-in-the-United-States-County/8xkx-amqh',\n",
       "     'name': 'Centers for Disease Control and Prevention'}],\n",
       "   'anomalies': []},\n",
       "  'vaccinationsCompleted': {'sources': [{'type': 'other',\n",
       "     'url': 'https://data.cdc.gov/Vaccinations/COVID-19-Vaccinations-in-the-United-States-County/8xkx-amqh',\n",
       "     'name': 'Centers for Disease Control and Prevention'}],\n",
       "   'anomalies': []},\n",
       "  'vaccinationsAdditionalDose': {'sources': [{'type': 'other',\n",
       "     'url': 'https://data.cdc.gov/Vaccinations/COVID-19-Vaccinations-in-the-United-States-County/8xkx-amqh',\n",
       "     'name': 'Centers for Disease Control and Prevention'}],\n",
       "   'anomalies': []},\n",
       "  'vaccinesAdministered': {'sources': [{'type': 'CANScrapersStateProviders',\n",
       "     'url': 'https://alpublichealth.maps.arcgis.com/apps/opsdashboard/index.html#/e4a232feb1344ce0afd9ac162f3ac4ba',\n",
       "     'name': 'Alabama Department of Public Health'}],\n",
       "   'anomalies': []},\n",
       "  'testPositivityRatio': {'sources': [{'type': 'other',\n",
       "     'url': 'https://data.cdc.gov/Public-Health-Surveillance/United-States-COVID-19-County-Level-of-Community-T/8396-v7yb',\n",
       "     'name': 'Centers for Disease Control and Prevention'}],\n",
       "   'anomalies': []},\n",
       "  'caseDensity': {'sources': [{'type': 'NYTimes',\n",
       "     'url': 'https://github.com/nytimes/covid-19-data',\n",
       "     'name': 'The New York Times'}],\n",
       "   'anomalies': []},\n",
       "  'weeklyNewCasesPer100k': {'sources': [{'type': 'NYTimes',\n",
       "     'url': 'https://github.com/nytimes/covid-19-data',\n",
       "     'name': 'The New York Times'}],\n",
       "   'anomalies': []},\n",
       "  'contactTracerCapacityRatio': None,\n",
       "  'infectionRate': {'sources': [{'type': 'NYTimes',\n",
       "     'url': 'https://github.com/nytimes/covid-19-data',\n",
       "     'name': 'The New York Times'}],\n",
       "   'anomalies': []},\n",
       "  'infectionRateCI90': {'sources': [{'type': 'NYTimes',\n",
       "     'url': 'https://github.com/nytimes/covid-19-data',\n",
       "     'name': 'The New York Times'}],\n",
       "   'anomalies': []},\n",
       "  'icuCapacityRatio': None,\n",
       "  'bedsWithCovidPatientsRatio': {'sources': [{'type': 'other',\n",
       "     'url': 'https://healthdata.gov/Hospital/COVID-19-Reported-Patient-Impact-and-Hospital-Capa/anag-cw7u',\n",
       "     'name': 'Department of Health and Human Services'}],\n",
       "   'anomalies': []},\n",
       "  'weeklyCovidAdmissionsPer100k': {'sources': [{'type': 'other',\n",
       "     'url': 'https://healthdata.gov/Hospital/COVID-19-Reported-Patient-Impact-and-Hospital-Capa/anag-cw7u',\n",
       "     'name': 'Department of Health and Human Services'}],\n",
       "   'anomalies': []},\n",
       "  'vaccinationsInitiatedRatio': None,\n",
       "  'vaccinationsCompletedRatio': None,\n",
       "  'vaccinationsAdditionalDoseRatio': None},\n",
       " 'lastUpdatedDate': '2022-04-18',\n",
       " 'url': 'https://covidactnow.org/us/alabama-al/county/hale_county'}"
      ]
     },
     "execution_count": 17,
     "metadata": {},
     "output_type": "execute_result"
    }
   ],
   "source": [
    "#check responce\n",
    "resp[61]"
   ]
  },
  {
   "cell_type": "code",
   "execution_count": 20,
   "id": "38df5f34",
   "metadata": {},
   "outputs": [],
   "source": [
    "#get fips and other relevant attributes from the api\n",
    "for i in resp:\n",
    "     val = i['riskLevels']['overall']\n",
    "     fips_c = i['fips']\n",
    "     inf = i['metrics']['infectionRate']\n",
    "     county = i['county']\n",
    "     state = i['state']\n",
    "     coun = i['county']\n",
    "     vac = i['metrics']['vaccinationsInitiatedRatio']\n",
    "     i.clear()\n",
    "     i['fips'] = fips_c\n",
    "     i['risk'] = val\n",
    "     i['infectionRate'] = inf\n",
    "     i['county'] = county\n",
    "     i['vaccinationsInitiatedRatio'] = vac"
   ]
  },
  {
   "cell_type": "code",
   "execution_count": 21,
   "id": "02d2e800",
   "metadata": {},
   "outputs": [
    {
     "data": {
      "text/plain": [
       "{'fips': '02016',\n",
       " 'risk': 1,\n",
       " 'infectionRate': 1.0,\n",
       " 'county': 'Aleutians West Census Area',\n",
       " 'vaccinationsInitiatedRatio': 0.746}"
      ]
     },
     "execution_count": 21,
     "metadata": {},
     "output_type": "execute_result"
    }
   ],
   "source": [
    "resp[1]"
   ]
  },
  {
   "cell_type": "code",
   "execution_count": 22,
   "id": "fdf83b91",
   "metadata": {},
   "outputs": [],
   "source": [
    "#output data without hospitals file\n",
    "import json\n",
    "with open('datawithoutHos.json', 'w') as f:\n",
    "    json.dump(resp, f)"
   ]
  },
  {
   "cell_type": "markdown",
   "id": "5e121a3d",
   "metadata": {},
   "source": [
    "# Step 2: Refine hospital data from different source"
   ]
  },
  {
   "cell_type": "code",
   "execution_count": null,
   "id": "101f1b2b",
   "metadata": {},
   "outputs": [],
   "source": [
    "#import health data\n",
    "dataH = json.load(open('dataMapHealth.json'))\n",
    "dataH = dataH['features']"
   ]
  },
  {
   "cell_type": "code",
   "execution_count": 23,
   "id": "16d1eedf",
   "metadata": {},
   "outputs": [],
   "source": [
    "#refine data\n",
    "resultArray = []\n",
    "for i in dataH:\n",
    "    my_dict = i['properties']\n",
    "    del my_dict['State']\n",
    "    del my_dict['County Name']\n",
    "    del my_dict['ICU Bed Source']\n",
    "    del my_dict['ICU Bed Source Last Updated']\n",
    "    my_dict['fips'] = my_dict.pop('fips_code')\n",
    "    data = i['properties']\n",
    "    resultArray.append(data)"
   ]
  },
  {
   "cell_type": "code",
   "execution_count": null,
   "id": "865344f3",
   "metadata": {},
   "outputs": [],
   "source": [
    "#hospital json file\n",
    "import json\n",
    "with open('hospital2.json', 'w') as f:\n",
    "    json.dump(resultArray, f)"
   ]
  },
  {
   "cell_type": "markdown",
   "id": "0f1f89cb",
   "metadata": {},
   "source": [
    "# Step 3 Join datas from both sources with fips code as reference"
   ]
  },
  {
   "cell_type": "code",
   "execution_count": 24,
   "id": "04c1ecb0",
   "metadata": {},
   "outputs": [],
   "source": [
    "\n",
    "#import health data\n",
    "dataR = json.load(open('datawithoutHos.json'))\n",
    "#import health data\n",
    "dataH = json.load(open('hospital2.json'))"
   ]
  },
  {
   "cell_type": "code",
   "execution_count": 25,
   "id": "7846414f",
   "metadata": {},
   "outputs": [],
   "source": [
    "import pandas as pd\n",
    "dr = pd.DataFrame(dataR)\n",
    "dh = pd.DataFrame(dataH)"
   ]
  },
  {
   "cell_type": "code",
   "execution_count": 28,
   "id": "d28fe502",
   "metadata": {},
   "outputs": [],
   "source": [
    "#combine both the hospital and risk data in one json file \n",
    "count = 0\n",
    "for i in dataR:\n",
    "    fips = i['fips']\n",
    "    for j in dataH:\n",
    "        if j['fips'] == fips:\n",
    "            i[\"Staffed All Beds [Per 1000 Adults (20+)]\"] = j[\"Staffed All Beds [Per 1000 Adults (20+)]\"]\n",
    "            i[\"Staffed ICU Beds [Per 1000 Adults (20+)]\"] = j[\"Staffed ICU Beds [Per 1000 Adults (20+)]\"]\n",
    "            i[\"Licensed All Beds [Per 1000 Adults (20+)]\"] = j[\"Licensed All Beds [Per 1000 Adults (20+)]\"]"
   ]
  },
  {
   "cell_type": "code",
   "execution_count": 31,
   "id": "f66eb004",
   "metadata": {},
   "outputs": [],
   "source": [
    "#final json file\n",
    "import json\n",
    "with open('hospitalandrisk.json', 'w') as f:\n",
    "    json.dump(dataR, f)"
   ]
  }
 ],
 "metadata": {
  "kernelspec": {
   "display_name": "Python 3 (ipykernel)",
   "language": "python",
   "name": "python3"
  },
  "language_info": {
   "codemirror_mode": {
    "name": "ipython",
    "version": 3
   },
   "file_extension": ".py",
   "mimetype": "text/x-python",
   "name": "python",
   "nbconvert_exporter": "python",
   "pygments_lexer": "ipython3",
   "version": "3.10.2"
  }
 },
 "nbformat": 4,
 "nbformat_minor": 5
}
